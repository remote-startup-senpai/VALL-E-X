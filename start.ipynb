{
 "cells": [
  {
   "cell_type": "markdown",
   "metadata": {},
   "source": [
    "### Japanese Voice 1 (Yui Ogura / 小倉唯 voice sample)\n",
    "##### Setup Prompt"
   ]
  },
  {
   "cell_type": "code",
   "execution_count": null,
   "metadata": {},
   "outputs": [],
   "source": [
    "import os\n",
    "from utils.prompt_making import make_prompt\n",
    "\n",
    "PROMPT_NAME = \"ja-female-1\"\n",
    "PATH_PROMPTS = \"prompts\"\n",
    "\n",
    "\n",
    "### Use given transcript\n",
    "make_prompt(\n",
    "    name=PROMPT_NAME,\n",
    "    audio_prompt_path=os.path.join(PATH_PROMPTS, f\"{PROMPT_NAME}.wav\"),\n",
    "    transcript=\"名鑑レベルが上がったそうです。知らない間に…\",\n",
    ")"
   ]
  },
  {
   "cell_type": "markdown",
   "metadata": {},
   "source": [
    "##### Setup Models"
   ]
  },
  {
   "cell_type": "code",
   "execution_count": null,
   "metadata": {},
   "outputs": [],
   "source": [
    "from utils.generation import preload_models\n",
    "\n",
    "# download and load all models\n",
    "preload_models()"
   ]
  },
  {
   "cell_type": "markdown",
   "metadata": {},
   "source": [
    "##### Generate Wav"
   ]
  },
  {
   "cell_type": "code",
   "execution_count": null,
   "metadata": {},
   "outputs": [],
   "source": [
    "from utils.generation import SAMPLE_RATE, generate_audio\n",
    "from scipy.io.wavfile import write as write_wav\n",
    "\n",
    "OUTPUT_FILENAME = \"sample.wav\"\n",
    "\n",
    "text_prompt = '''\n",
    "あなたはちゃんと\"人\"よ。\n",
    "'''\n",
    "audio_array = generate_audio(text_prompt, prompt=PROMPT_NAME)\n",
    "\n",
    "write_wav(OUTPUT_FILENAME, SAMPLE_RATE, audio_array)"
   ]
  }
 ],
 "metadata": {
  "kernelspec": {
   "display_name": "env",
   "language": "python",
   "name": "python3"
  },
  "language_info": {
   "codemirror_mode": {
    "name": "ipython",
    "version": 3
   },
   "file_extension": ".py",
   "mimetype": "text/x-python",
   "name": "python",
   "nbconvert_exporter": "python",
   "pygments_lexer": "ipython3",
   "version": "3.9.10"
  }
 },
 "nbformat": 4,
 "nbformat_minor": 2
}
