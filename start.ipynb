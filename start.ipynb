{
 "cells": [
  {
   "cell_type": "markdown",
   "metadata": {},
   "source": [
    "# Demo with Japanese Voice 1 (Yui Ogura / 小倉唯 voice sample)\n",
    "##### Setup Prompt"
   ]
  },
  {
   "cell_type": "code",
   "execution_count": null,
   "metadata": {},
   "outputs": [],
   "source": [
    "import os\n",
    "from utils.prompt_making import make_prompt\n",
    "\n",
    "PROMPT_NAME = \"ja-female-1\"\n",
    "PATH_PROMPTS = \"prompts\"\n",
    "\n",
    "\n",
    "### Use given transcript\n",
    "make_prompt(\n",
    "    name=PROMPT_NAME,\n",
    "    audio_prompt_path=os.path.join(PATH_PROMPTS, f\"{PROMPT_NAME}.wav\"),\n",
    "    transcript=\"名鑑レベルが上がったそうです。知らない間に…\",\n",
    ")"
   ]
  },
  {
   "cell_type": "markdown",
   "metadata": {},
   "source": [
    "##### Setup Models"
   ]
  },
  {
   "cell_type": "code",
   "execution_count": null,
   "metadata": {},
   "outputs": [],
   "source": [
    "from utils.generation import preload_models\n",
    "\n",
    "# download and load all models\n",
    "preload_models()"
   ]
  },
  {
   "cell_type": "markdown",
   "metadata": {},
   "source": [
    "##### Generate Wav"
   ]
  },
  {
   "cell_type": "code",
   "execution_count": null,
   "metadata": {},
   "outputs": [],
   "source": [
    "from utils.generation import SAMPLE_RATE, generate_audio\n",
    "from scipy.io.wavfile import write as write_wav\n",
    "\n",
    "OUTPUT_FILENAME = \"sample.wav\"\n",
    "\n",
    "text_prompt = '''\n",
    "あなたはちゃんと\"人\"よ。\n",
    "'''\n",
    "audio_array = generate_audio(text_prompt, prompt=PROMPT_NAME)\n",
    "\n",
    "write_wav(OUTPUT_FILENAME, SAMPLE_RATE, audio_array)"
   ]
  },
  {
   "cell_type": "markdown",
   "metadata": {},
   "source": [
    "# Procedural Version"
   ]
  },
  {
   "cell_type": "code",
   "execution_count": null,
   "metadata": {},
   "outputs": [],
   "source": [
    "from utils.generation import preload_models\n",
    "\n",
    "# download and load all models\n",
    "preload_models()"
   ]
  },
  {
   "cell_type": "code",
   "execution_count": null,
   "metadata": {},
   "outputs": [],
   "source": [
    "class Prompt:\n",
    "    name: str\n",
    "    path: str\n",
    "    transcript: str\n",
    "\n",
    "    def __init__(self, name: str, path: str, transcript: str):\n",
    "        super().__init__()\n",
    "        self.name = name\n",
    "        self.path = path\n",
    "        self.transcript = transcript\n",
    "\n",
    "PATH_PROMPTS = \"prompts\""
   ]
  },
  {
   "cell_type": "code",
   "execution_count": null,
   "metadata": {},
   "outputs": [],
   "source": [
    "import os\n",
    "\n",
    "PROMPTS = {\n",
    "    # Yui Ogura (小倉唯) as Manhattan Cafe (マンハッタンカフェ)\n",
    "    \"ja-female-1\": Prompt(name=\"ja-female-1\",\n",
    "            path=os.path.join(PATH_PROMPTS, \"ja-female-1.wav\"),\n",
    "            transcript=\"名鑑レベルが上がったそうです。知らない間に…\"),\n",
    "\n",
    "    # Erii Sendai (仙台エリ) as Yoshino Tomotake (朝武芳乃)\n",
    "    \"ja-female-2\": Prompt(name=\"ja-female-2\",\n",
    "            path=os.path.join(PATH_PROMPTS, \"ja-female-2.wav\"),\n",
    "            transcript=\"始めまして。朝武芳乃です。\"),\n",
    "\n",
    "    # Hiroshi Kamiya (神谷浩史) as Koyomi Araragi (阿良々木暦)\n",
    "    \"ja-male-1\": Prompt(name=\"ja-male-1\",\n",
    "            path=os.path.join(PATH_PROMPTS, \"ja-male-1.wav\"),\n",
    "            transcript=\"無理だったかもしれない。無茶だったかもしれない。でも、無駄じゃなかった。\")\n",
    "}"
   ]
  },
  {
   "cell_type": "code",
   "execution_count": null,
   "metadata": {},
   "outputs": [],
   "source": [
    "from utils.prompt_making import make_prompt\n",
    "from utils.generation import SAMPLE_RATE, generate_audio\n",
    "from scipy.io.wavfile import write as write_wav\n",
    "\n",
    "def generate_prompt(prompt: Prompt):\n",
    "    make_prompt(\n",
    "        name=prompt.name,\n",
    "        audio_prompt_path=prompt.path,\n",
    "        transcript=prompt.transcript,\n",
    "    )\n",
    "\n",
    "def generate_voice(prompt: Prompt, transcript: str, output_filename: str = \"sample.wav\"):   \n",
    "    text_prompt = transcript\n",
    "    audio_array = generate_audio(text_prompt, prompt=prompt.name)\n",
    "\n",
    "    write_wav(output_filename, SAMPLE_RATE, audio_array)"
   ]
  },
  {
   "cell_type": "code",
   "execution_count": null,
   "metadata": {},
   "outputs": [],
   "source": [
    "generate_prompt(prompt=PROMPTS[\"ja-female-1\"])\n",
    "generate_prompt(prompt=PROMPTS[\"ja-female-2\"])\n",
    "generate_prompt(prompt=PROMPTS[\"ja-male-1\"])"
   ]
  },
  {
   "cell_type": "code",
   "execution_count": null,
   "metadata": {},
   "outputs": [],
   "source": [
    "generate_voice(prompt=PROMPTS[\"ja-male-1\"],\n",
    "               transcript=\"どうでもいい、、\")"
   ]
  }
 ],
 "metadata": {
  "kernelspec": {
   "display_name": "env",
   "language": "python",
   "name": "python3"
  },
  "language_info": {
   "codemirror_mode": {
    "name": "ipython",
    "version": 3
   },
   "file_extension": ".py",
   "mimetype": "text/x-python",
   "name": "python",
   "nbconvert_exporter": "python",
   "pygments_lexer": "ipython3",
   "version": "3.9.10"
  }
 },
 "nbformat": 4,
 "nbformat_minor": 2
}
